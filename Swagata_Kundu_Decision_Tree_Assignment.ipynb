{
 "cells": [
  {
   "cell_type": "markdown",
   "id": "0417bac7",
   "metadata": {},
   "source": [
    "# Assignment of Decision Tree by Swagata Kundu\n",
    "\n",
    "# Theory Questions:"
   ]
  },
  {
   "cell_type": "markdown",
   "id": "85124c8d",
   "metadata": {},
   "source": [
    "### 1. What is a Decision Tree, and how does it work?"
   ]
  },
  {
   "cell_type": "markdown",
   "id": "6a47eff4",
   "metadata": {},
   "source": [
    "A Decision Tree is a type of supervised machine learning algorithm used for classification and regression tasks. It models decisions and their possible consequences as a tree-like structure, where internal nodes represent decisions based on feature values, branches represent the outcomes of those decisions, and leaf nodes represent the final output (class label or continuous value)."
   ]
  },
  {
   "cell_type": "markdown",
   "id": "c1cdfe7c",
   "metadata": {},
   "source": [
    "#### -Root Node:\n",
    "\n",
    "    The tree starts with a root node that contains the entire dataset.\n",
    "\n",
    "    A feature is selected based on a splitting criterion (e.g., Gini index, Information Gain, etc.) to best divide the data.\n",
    "\n",
    "#### -Splitting:\n",
    "\n",
    "    The data is recursively split into subsets based on feature values.\n",
    "    \n",
    "    The goal is to increase the \"purity\" of the subsets (i.e., make them more homogeneous with respect to the target variable).\n",
    "\n",
    "#### -Decision Nodes and Leaf Nodes:\n",
    "\n",
    "    Internal nodes (decision nodes) represent features and splitting conditions.\n",
    "\n",
    "    Leaf nodes (terminal nodes) represent the final output (e.g., a class label or predicted value).\n",
    "\n",
    "#### -Stopping Criteria:\n",
    "\n",
    "    The splitting continues until:\n",
    "\n",
    "    All samples in a node belong to the same class\n",
    "\n",
    "    Maximum depth is reached\n",
    "\n",
    "    Minimum number of samples per node is met\n",
    "\n",
    "    No further information gain can be made\n",
    "\n",
    "\n",
    "#### Example:\n"
   ]
  },
  {
   "cell_type": "markdown",
   "id": "e9ea4e72",
   "metadata": {},
   "source": [
    "            [Outlook]\n",
    "           /    |     \\\n",
    "        Sunny Overcast Rain\n",
    "        /               \\\n",
    "  [Humidity]         [Wind]\n",
    "   /     \\            /    \\\n",
    "High   Normal     Weak   Strong\n",
    "  |        |         |       |\n",
    " No      Yes       Yes      No\n",
    "\n",
    "\n",
    "\n",
    "- This tree decides based on \"Outlook\". If \"Sunny\", it checks \"Humidity\"; if \"Rain\", it checks \"Wind\".\n",
    "\n",
    "- Each path from the root to a leaf represents a decision rule."
   ]
  },
  {
   "cell_type": "markdown",
   "id": "23d2fc77",
   "metadata": {},
   "source": [
    "### 2. What are impurity measures in Decision Trees?"
   ]
  },
  {
   "cell_type": "markdown",
   "id": "308489e7",
   "metadata": {},
   "source": [
    "#### 1. Gini Impurity\n",
    "\n",
    "- **Used in**: CART (Classification and Regression Trees)  \n",
    "- **Description**: Measures the probability of incorrectly classifying a randomly chosen element if it were randomly labeled according to the class distribution in the node.\n",
    "\n",
    "###### Formula:\n",
    "\\[\n",
    "Gini(p) = 1 - \\sum_{i=1}^{C} p_i^2\n",
    "\\]\n",
    "\n",
    "Where:  \n",
    "- \\( p_i \\): proportion of instances belonging to class \\( i \\)  \n",
    "- \\( C \\): total number of classes\n",
    "\n",
    "#### Interpretation:\n",
    "- \\( Gini = 0 \\) → Pure node (all elements belong to one class)  \n",
    "- \\( Gini = 0.5 \\) (for 2 classes) → Maximum impurity (equal distribution)\n",
    "\n",
    "---\n",
    "\n",
    "#### 2. Entropy (Information Gain)\n",
    "\n",
    "- **Used in**: ID3 and C4.5 algorithms  \n",
    "- **Description**: Derived from information theory; measures the amount of disorder or randomness in the data.\n",
    "\n",
    "##### Formula:\n",
    "\\[\n",
    "Entropy(p) = - \\sum_{i=1}^{C} p_i \\log_2(p_i)\n",
    "\\]\n",
    "\n",
    "#### Information Gain (IG):\n",
    "\\[\n",
    "IG = Entropy_{parent} - \\sum_k \\left( \\frac{n_k}{n} \\cdot Entropy_k \\right)\n",
    "\\]\n",
    "\n",
    "Where:  \n",
    "- \\( n_k \\): number of instances in child \\( k \\)  \n",
    "- \\( n \\): total number of instances in the parent\n",
    "\n",
    "#### Interpretation:\n",
    "- \\( Entropy = 0 \\) → Pure node  \n",
    "- \\( Entropy = 1 \\) (binary classes) → Most impure\n",
    "\n",
    "---\n",
    "\n",
    "#### 3. Classification Error (Less Common)\n",
    "\n",
    "- **Description**: Simpler, but less sensitive to class distribution than Gini or Entropy.\n",
    "\n",
    "#### Formula:\n",
    "\\[\n",
    "Error(p) = 1 - \\max(p_i)\n",
    "\\]\n",
    "\n",
    "---\n",
    "\n",
    "#### Example:\n",
    "\n",
    "If 70% of samples are class A and 30% are class B:\n",
    "\n",
    "- Gini = 0.42  \n",
    "- Entropy ≈ 0.88  \n",
    "- Classification Error = 0.3"
   ]
  },
  {
   "cell_type": "markdown",
   "id": "94e637f1",
   "metadata": {},
   "source": [
    "### 3. What is the mathematical formula for Gini Impurity?"
   ]
  },
  {
   "cell_type": "markdown",
   "id": "4770f3ab",
   "metadata": {},
   "source": [
    "####  Gini Impurity – Mathematical Formula\n",
    "\n",
    "\\[\n",
    "\\text{Gini}(p) = 1 - \\sum_{i=1}^{C} p_i^2\n",
    "\\]\n",
    "\n",
    "Where:\n",
    "- \\( p_i \\): Proportion of instances belonging to class \\( i \\)  \n",
    "- \\( C \\): Total number of classes\n",
    "\n",
    "---\n",
    "\n",
    "#### Example (Binary classification): \n",
    "If 70% of samples are class A and 30% are class B:\n",
    "\n",
    "$$[\n",
    "\\text{Gini} = 1 - (0.7^2 + 0.3^2) = 1 - (0.49 + 0.09) = 0.42\n",
    "]$$\n"
   ]
  },
  {
   "cell_type": "markdown",
   "id": "798848ff",
   "metadata": {},
   "source": [
    "### 4. What is the mathematical formula for Entropy?"
   ]
  },
  {
   "cell_type": "markdown",
   "id": "4916050c",
   "metadata": {},
   "source": [
    "####  Entropy – Mathematical Formula\n",
    "\n",
    "\\[\n",
    "\\text{Entropy}(p) = - \\sum_{i=1}^{C} p_i \\log_2(p_i)\n",
    "\\]\n",
    "\n",
    "Where:\n",
    "- \\( p_i \\): Proportion of instances belonging to class \\( i \\)  \n",
    "- \\( C \\): Total number of classes\n",
    "\n",
    "---\n",
    "\n",
    "#### Example (Binary classification):*\\ \n",
    "If 70% of samples are class A and 30% are class B:\n",
    "\n",
    "$$[\n",
    "\\text{Entropy} = - (0.7 \\log_{2} 0.7 + 0.3 \\log_{2} 0.3) \\approx - (0.7 \\times -0.515 + 0.3 \\times -1.737) \\approx 0.881\n",
    "]$$"
   ]
  },
  {
   "cell_type": "markdown",
   "id": "b4ab4e15",
   "metadata": {},
   "source": [
    "### 5. What is Information Gain, and how is it used in Decision Trees?"
   ]
  },
  {
   "cell_type": "markdown",
   "id": "983baafb",
   "metadata": {},
   "source": [
    "##### Information Gain in Decision Trees\n",
    "\n",
    "Information Gain (IG)** measures how much \"information\" a feature gives us about the class. It quantifies the reduction in entropy after a dataset is split on an attribute.\n",
    "\n",
    "---\n",
    "\n",
    "#### Formula:\n",
    "\n",
    "\\[\n",
    "IG = Entropy_{\\text{parent}} - \\sum_{k=1}^{K} \\left( \\frac{n_k}{n} \\cdot Entropy_k \\right)\n",
    "\\]\n",
    "\n",
    "Where:  \n",
    "- \\(Entropy_{\\text{parent}}\\) = Entropy before the split  \n",
    "- \\(n_k\\) = Number of samples in the \\(k^{th}\\) child node  \n",
    "- \\(n\\) = Total number of samples in the parent node  \n",
    "- \\(Entropy_k\\) = Entropy of the \\(k^{th}\\) child node  \n",
    "- \\(K\\) = Number of child nodes\n",
    "\n",
    "---\n",
    "\n",
    "####  How is it used in Decision Trees?\n",
    "\n",
    "1. Calculate entropy of the parent node (before split).  \n",
    "2. For each candidate feature, split the dataset into child nodes.  \n",
    "3. Compute the weighted average entropy of the child nodes.  \n",
    "4. Subtract this from the parent entropy to get Information Gain.  \n",
    "5. Select the feature with the highest Information Gain to split the data.\n",
    "\n",
    "---\n",
    "\n",
    "#### Interpretation:\n",
    "\n",
    "- Higher IG means the feature provides a better split (reduces uncertainty more).  \n",
    "- Decision trees use IG to build branches that best separate classes.\n"
   ]
  },
  {
   "cell_type": "markdown",
   "id": "957cf492",
   "metadata": {},
   "source": [
    "### 6. What is the difference between Gini Impurity and Entropy?"
   ]
  },
  {
   "cell_type": "markdown",
   "id": "817f32c8",
   "metadata": {},
   "source": [
    "####  Difference Between Gini Impurity and Entropy\n",
    "\n",
    "| Aspect                  | Gini Impurity                                | Entropy                                      |\n",
    "|-------------------------|---------------------------------------------|----------------------------------------------|\n",
    "| **Definition**          | Measures probability of misclassification. | Measures amount of disorder or uncertainty.  |\n",
    "| **Formula**             | \\(\\displaystyle 1 - \\sum_{i=1}^{C} p_i^2 \\) | \\(\\displaystyle - \\sum_{i=1}^{C} p_i \\log_2(p_i) \\) |\n",
    "| **Range**               | \\(0 \\leq \\text{Gini} \\leq 0.5\\) (for 2 classes) | \\(0 \\leq \\text{Entropy} \\leq 1\\) (for 2 classes)     |\n",
    "| **Interpretation**      | 0 means pure node; higher means more impurity. | 0 means pure node; higher means more impurity.         |\n",
    "| **Sensitivity**         | Less sensitive to changes near 0 and 1 probabilities. | More sensitive to changes in class distribution.      |\n",
    "| **Used In**             | CART algorithm.                             | ID3, C4.5 algorithms.                          |\n",
    "| **Computational Cost**  | Computationally simpler (no logarithms).    | Computationally heavier due to logarithms.    |\n",
    "\n",
    "---\n",
    "\n",
    "#### Conclusion:\n",
    "\n",
    "- Both are measures of node impurity used to decide the best splits in decision trees.  \n",
    "- Gini Impurity tends to be faster to compute and is often preferred in practice.  \n",
    "- Entropy is more theoretically grounded in information theory and can sometimes give slightly different splits.  \n",
    "- In many cases, both yield very similar results.\n"
   ]
  },
  {
   "cell_type": "markdown",
   "id": "4f65ac15",
   "metadata": {},
   "source": [
    "### 7. What is the mathematical explanation behind Decision Trees?"
   ]
  },
  {
   "cell_type": "markdown",
   "id": "30e67eb1",
   "metadata": {},
   "source": [
    "####  Mathematical Explanation of Decision Trees\n",
    "\n",
    "A **Decision Tree** is a hierarchical model that recursively partitions the feature space into regions, aiming to create subsets that are as **pure** as possible (i.e., contain mostly samples from a single class).\n",
    "\n",
    "---\n",
    "\n",
    "- #### 1. Problem Setup\n",
    "\n",
    "Given a dataset:\n",
    "\n",
    "$$[\n",
    "\\mathcal{D} = \\{ (\\mathbf{x}_i, y_i) \\mid i = 1, 2, \\ldots, N \\}\n",
    "]$$\n",
    "\n",
    "where  \n",
    "$(\\mathbf{x}_i \\in \\mathbb{R}^d)$ is the feature vector for the $(i^{th})$ sample,  \n",
    "$(y_i)$ is the class label (for classification) or real value (for regression).\n",
    "\n",
    "---\n",
    "\n",
    " - #### 2. Tree Construction Objective\n",
    "\n",
    "At each node, the goal is to find the **best split** that partitions the data into two (or more) subsets such that the **impurity** of the child nodes is minimized.\n",
    "\n",
    "Mathematically, for a split \\(s\\) on feature \\(j\\) at threshold \\(t\\), partition the data:\n",
    "\n",
    "$$\n",
    "(\\mathcal{D}_{left}(s) = \\{ (\\mathbf{x}, y) \\mid x_j \\leq t \\} \\\\\n",
    "\\mathcal{D}_{right}(s) = \\{ (\\mathbf{x}, y) \\mid x_j > t \\})\n",
    "$$\n",
    "\n",
    "---\n",
    "\n",
    "#### 3. Impurity Measure\n",
    "\n",
    "Let $(I(\\cdot))$ be an impurity function (e.g., Gini, Entropy). The quality of split $(s)$ is evaluated by the weighted impurity of child nodes:\n",
    "\n",
    "$(\n",
    "Q(s) = \\frac{|\\mathcal{D}_{left}(s)|}{|\\mathcal{D}|} I(\\mathcal{D}_{left}(s)) + \\frac{|\\mathcal{D}_{right}(s)|}{|\\mathcal{D}|} I(\\mathcal{D}_{right}(s))\n",
    "$\n",
    "\n",
    "where $(|\\cdot|)$ denotes the number of samples.\n",
    "\n",
    "---\n",
    "\n",
    "#### 4. Optimal Split\n",
    "\n",
    "The best split $( s^* )$ is chosen by minimizing $( Q(s) )$:\n",
    "\n",
    "$[\n",
    "s^* = \\arg\\min_s Q(s)\n",
    "]$\n",
    "\n",
    "---\n",
    "\n",
    "#### 5. Stopping Criteria\n",
    "\n",
    "Splitting continues recursively until a stopping criterion is met, e.g.,\n",
    "\n",
    "- All samples in node belong to the same class (pure node).  \n",
    "- Maximum tree depth reached.  \n",
    "- Minimum number of samples in a node.  \n",
    "- No further impurity reduction possible.\n",
    "\n",
    "---\n",
    "\n",
    "#### 6. Prediction\n",
    "\n",
    "For classification, the leaf node assigns the class label by majority vote of training samples within that node.\n",
    "\n",
    "For regression, the prediction is typically the average target value of samples in the leaf.\n",
    "\n",
    "---\n",
    "\n"
   ]
  },
  {
   "cell_type": "markdown",
   "id": "dd424abe",
   "metadata": {},
   "source": [
    "### 8.What is Pre-Pruning in Decision Trees?"
   ]
  },
  {
   "cell_type": "markdown",
   "id": "bfa20b64",
   "metadata": {},
   "source": [
    "- ####  Pre-Pruning in Decision Trees\n",
    "\n",
    "    **Pre-Pruning** (also called early stopping) is a technique used to stop the growth of a decision tree **before it perfectly classifies the training data**, with the goal of preventing overfitting.\n",
    "\n",
    "---\n",
    "\n",
    " - #### How Pre-Pruning Works:\n",
    "\n",
    "    - During tree construction, the algorithm evaluates whether to split a node further.\n",
    "    - If splitting does not improve the model significantly or certain conditions are met, the splitting is stopped early.\n",
    "    - The node is then made a leaf.\n",
    "\n",
    "---\n",
    "\n",
    " - #### Common Pre-Pruning Criteria:\n",
    "\n",
    "    - Maximum depth of the tree reached.  \n",
    "    - Minimum number of samples required to split a node.  \n",
    "    - Minimum impurity decrease threshold (split only if impurity decreases by a certain amount).  \n",
    "    - Maximum number of leaf nodes allowed.\n",
    "\n",
    "---\n",
    "\n",
    "   - #### Benefits:\n",
    "\n",
    "    - Reduces complexity of the tree.  \n",
    "    - Helps avoid overfitting on training data.  \n",
    "    - Makes the model simpler and faster to train.\n",
    "\n",
    "---"
   ]
  },
  {
   "cell_type": "markdown",
   "id": "6da421df",
   "metadata": {},
   "source": [
    "### 9. What is Post-Pruning in Decision Trees?"
   ]
  },
  {
   "cell_type": "markdown",
   "id": "6746020c",
   "metadata": {},
   "source": [
    "####  Post-Pruning in Decision Trees\n",
    "\n",
    "**Post-Pruning** (also called **cost-complexity pruning** or **pruning after training**) is a technique where the decision tree is **fully grown first**, then branches that do not provide sufficient power in predicting the target are removed (pruned) to reduce overfitting.\n",
    "\n",
    "---\n",
    "\n",
    "#### How Post-Pruning Works:\n",
    "\n",
    "1. Grow the full tree without any stopping criteria (i.e., fully fit to training data).  \n",
    "2. Evaluate subtrees and remove branches that have little effect on prediction accuracy (usually based on validation data or statistical tests).  \n",
    "3. Replace pruned branches with leaf nodes.\n",
    "\n",
    "---\n",
    "\n",
    "#### Common Methods:\n",
    "\n",
    "- **Reduced Error Pruning:** Remove nodes if it does not decrease accuracy on validation set.  \n",
    "- **Cost Complexity Pruning:** Minimize a cost function balancing tree size and accuracy.\n",
    "\n",
    "---\n",
    "\n",
    "#### Benefits:\n",
    "\n",
    "- Usually produces better generalization than pre-pruning.  \n",
    "- Allows the tree to learn full detail before simplifying.  \n",
    "- Can recover from suboptimal splits made during tree construction.\n",
    "\n",
    "---\n"
   ]
  },
  {
   "cell_type": "markdown",
   "id": "cb4e81e9",
   "metadata": {},
   "source": [
    "### 10. What is the difference between Pre-Pruning and Post-Pruning?"
   ]
  },
  {
   "cell_type": "markdown",
   "id": "78b67799",
   "metadata": {},
   "source": [
    "- ####  Difference Between Pre-Pruning and Post-Pruning in Decision Trees\n",
    "\n",
    "| Aspect               | Pre-Pruning                                | Post-Pruning                              |\n",
    "|----------------------|-------------------------------------------|------------------------------------------|\n",
    "| **When Applied**      | Stops tree growth early during training. | Prunes the tree after it is fully grown. |\n",
    "| **Approach**         | Early stopping based on criteria (depth, impurity, samples). | Grow full tree, then remove unnecessary branches. |\n",
    "| **Overfitting**      | Helps prevent overfitting by limiting complexity upfront. | Reduces overfitting by simplifying a fully grown tree. |\n",
    "| **Computational Cost**| Generally faster since tree is smaller.   | Usually slower; full tree must be built first. |\n",
    "| **Risk**             | Can cause underfitting if stopped too early. | Less risk of underfitting, more flexible. |\n",
    "| **Complexity**       | Simpler, as it avoids growing deep trees. | More complex due to separate pruning step. |\n",
    "| **Validation Data**  | Not always needed during training.        | Often requires validation or cross-validation data. |\n",
    "| **Examples**         | Max depth limit, minimum samples per split. | Reduced error pruning, cost complexity pruning. |\n",
    "\n",
    "---\n",
    "\n",
    "- #### Conclusion:\n",
    "\n",
    "- **Pre-Pruning:** Stop growing the tree early to avoid complexity.  \n",
    "- **Post-Pruning:** Build full tree then simplify it by cutting back unnecessary branches.\n",
    "\n",
    "Both aim to improve generalization by controlling tree complexity but differ in **when** and **how** pruning happens.\n"
   ]
  },
  {
   "cell_type": "markdown",
   "id": "80d10a62",
   "metadata": {},
   "source": [
    "### 11. What is a Decision Tree Regressor?"
   ]
  },
  {
   "cell_type": "markdown",
   "id": "d78db87b",
   "metadata": {},
   "source": [
    "####  Decision Tree Regressor\n",
    "\n",
    "A **Decision Tree Regressor** is a type of decision tree used for **regression tasks**, where the goal is to predict a continuous output (numerical value) instead of a class label.\n",
    "\n",
    "---\n",
    "\n",
    "#### How it works:\n",
    "\n",
    "- The tree recursively splits the dataset into subsets based on feature values.  \n",
    "- At each split, the algorithm selects the feature and threshold that minimize the **variance** or **mean squared error (MSE)** in the target variable within the subsets.  \n",
    "- Splitting continues until stopping criteria are met (e.g., max depth, minimum samples per leaf).  \n",
    "- Each leaf node predicts a continuous value, usually the **mean** of the target values of the training samples in that leaf.\n",
    "\n",
    "---\n",
    "\n",
    "#### Objective function:\n",
    "\n",
    "    At each split, the best split minimizes the sum of squared errors (SSE) in child nodes:\n",
    "\n",
    "$[\n",
    "\\min_{s} \\left( \\sum_{i \\in \\mathcal{D}_{left}(s)} (y_i - \\bar{y}_{left})^2 + \\sum_{i \\in \\mathcal{D}_{right}(s)} (y_i - \\bar{y}_{right})^2 \\right)\n",
    "]$\n",
    "\n",
    "where  \n",
    "- $(\\mathcal{D}_{left}(s))$ and $(\\mathcal{D}_{right}(s))$ are subsets created by split $(s)$  \n",
    "- $(\\bar{y}_{left})$ and $(\\bar{y}_{right})$ are mean target values in left and right subsets respectively.\n",
    "\n",
    "---\n",
    "\n",
    "#### Prediction:\n",
    "\n",
    "    For a new input, traverse the tree according to feature thresholds until reaching a leaf node, then return the mean target value of that leaf.\n",
    "\n",
    "---\n",
    "\n",
    "#### Conclusion:\n",
    "\n",
    "- Decision Tree Regressor models continuous outputs.  \n",
    "- Uses variance reduction or MSE to find splits.  \n",
    "- Outputs the mean of targets in leaf nodes as prediction.\n"
   ]
  },
  {
   "cell_type": "markdown",
   "id": "d850e9fa",
   "metadata": {},
   "source": [
    "### 12. What are the advantages and disadvantages of Decision Trees?"
   ]
  },
  {
   "cell_type": "markdown",
   "id": "5829908f",
   "metadata": {},
   "source": [
    "\n",
    "\n",
    "---\n",
    "\n",
    "#### Advantages:\n",
    "\n",
    "1. **Easy to Understand and Interpret**  \n",
    "   - Tree structures are intuitive and can be visualized easily.\n",
    "\n",
    "2. **No Need for Feature Scaling or Normalization**  \n",
    "   - Decision trees are not affected by the scale of features.\n",
    "\n",
    "3. **Handles Both Numerical and Categorical Data**  \n",
    "   - Can work with different data types without requiring extensive preprocessing.\n",
    "\n",
    "4. **Requires Little Data Preparation**  \n",
    "   - No need for encoding or normalization in most cases.\n",
    "\n",
    "5. **Captures Non-linear Relationships**  \n",
    "   - Can model complex patterns and feature interactions.\n",
    "\n",
    "6. **Can Handle Missing Values**  \n",
    "   - Some implementations can split using only available data.\n",
    "\n",
    "7. **Fast Prediction**  \n",
    "   - Tree traversal is efficient and suitable for real-time inference.\n",
    "\n",
    "---\n",
    "\n",
    "####  Disadvantages:\n",
    "\n",
    "1. **Prone to Overfitting**  \n",
    "   - Fully grown trees can become too complex and memorize training data.\n",
    "\n",
    "2. **Unstable**  \n",
    "   - Small changes in the data can lead to very different tree structures.\n",
    "\n",
    "3. **Biased Toward Features with More Levels**  \n",
    "   - Features with many distinct values can dominate the splitting.\n",
    "\n",
    "4. **Less Accurate Compared to Ensemble Methods**  \n",
    "   - Performance is often lower than models like Random Forests or Gradient Boosted Trees.\n",
    "\n",
    "5. **Greedy Algorithm**  \n",
    "   - Uses a greedy approach for splitting, which may not lead to the global optimum.\n",
    "\n",
    "6. **Piecewise Constant Prediction** (in regression)  \n",
    "   - Output is not smooth; may not generalize well for some regression tasks.\n",
    "\n",
    "---\n",
    "\n"
   ]
  },
  {
   "cell_type": "markdown",
   "id": "293a028e",
   "metadata": {},
   "source": [
    "### 13. How does a Decision Tree handle missing values?"
   ]
  },
  {
   "cell_type": "markdown",
   "id": "246954b3",
   "metadata": {},
   "source": [
    "####  Handling Missing Values in Decision Trees\n",
    "\n",
    "Decision Trees can **handle missing values** both during **training** and **prediction**, depending on the implementation. Here are the key strategies:\n",
    "\n",
    "---\n",
    "\n",
    "####  During Training:\n",
    "\n",
    "1. **Ignore Instances with Missing Values**  \n",
    "   - Some implementations (like scikit-learn's `DecisionTreeClassifier`) by default **ignore** or **drop** rows with missing values before training.\n",
    "\n",
    "2. **Surrogate Splits**  \n",
    "   - Advanced implementations (e.g., CART in `rpart` or `XGBoost`) use **surrogate splits**, i.e., alternative features that approximate the original split when a feature value is missing.\n",
    "\n",
    "3. **Imputation Before Training**  \n",
    "   - Preprocessing step to **fill missing values** (e.g., with mean, median, or mode) before training the tree.\n",
    "\n",
    "---\n",
    "\n",
    "####  During Prediction:\n",
    "\n",
    "1. **Follow Surrogate Splits**  \n",
    "   - If a value is missing in the test data, follow the path defined by a surrogate feature split.\n",
    "\n",
    "2. **Weighted Distribution**  \n",
    "   - Pass the sample down **both child nodes** proportionally to how training samples were split, then take a weighted average of predictions.\n",
    "\n",
    "3. **Default Direction**  \n",
    "   - Send the sample down the **most common path** (left or right) used by training samples at that node.\n",
    "\n",
    "---\n",
    "\n"
   ]
  },
  {
   "cell_type": "code",
   "execution_count": 8,
   "id": "17334ee8",
   "metadata": {},
   "outputs": [
    {
     "name": "stdout",
     "output_type": "stream",
     "text": [
      "Accuracy: 0.6666666666666666\n"
     ]
    }
   ],
   "source": [
    "import numpy as np\n",
    "import pandas as pd\n",
    "from sklearn.tree import DecisionTreeClassifier\n",
    "from sklearn.impute import SimpleImputer\n",
    "from sklearn.model_selection import train_test_split\n",
    "from sklearn.metrics import accuracy_score\n",
    "\n",
    "# Sample dataset with missing values\n",
    "data = {\n",
    "    'Age': [25, 30, np.nan, 45, 50, np.nan, 35],\n",
    "    'Salary': [50000, 60000, 52000, 80000, np.nan, 70000, 65000],\n",
    "    'Purchased': ['No', 'Yes', 'No', 'Yes', 'Yes', 'No', 'Yes']\n",
    "}\n",
    "\n",
    "df = pd.DataFrame(data)\n",
    "\n",
    "# Features and target\n",
    "X = df[['Age', 'Salary']]\n",
    "y = df['Purchased']\n",
    "\n",
    "# Split into train/test sets\n",
    "X_train, X_test, y_train, y_test = train_test_split(X, y, test_size=0.3, random_state=42)\n",
    "\n",
    "# Imputer to fill missing values with the mean of the column\n",
    "imputer = SimpleImputer(strategy='mean')\n",
    "\n",
    "# Fit and transform the training data, transform test data\n",
    "X_train_imputed = imputer.fit_transform(X_train)\n",
    "X_test_imputed = imputer.transform(X_test)\n",
    "\n",
    "# Train the Decision Tree Classifier\n",
    "model = DecisionTreeClassifier(random_state=42)\n",
    "model.fit(X_train_imputed, y_train)\n",
    "\n",
    "# Predict and evaluate\n",
    "y_pred = model.predict(X_test_imputed)\n",
    "print(\"Accuracy:\", accuracy_score(y_test, y_pred))\n"
   ]
  },
  {
   "cell_type": "markdown",
   "id": "e7fdf6a8",
   "metadata": {},
   "source": [
    "### 14. How does a Decision Tree handle categorical features?"
   ]
  },
  {
   "cell_type": "markdown",
   "id": "ebec9264",
   "metadata": {},
   "source": [
    "####  Handling Categorical Features in Decision Trees\n",
    "\n",
    "Decision Trees can handle **categorical features** in two main ways depending on the implementation:\n",
    "\n",
    "---\n",
    "\n",
    "####  1. Label Encoding (Basic Method)\n",
    "- Converts categories into integers (e.g., \"Red\" → 0, \"Blue\" → 1).\n",
    "- Suitable if categories are **ordinal** (have a meaningful order).\n",
    "- Works with `sklearn`'s `DecisionTreeClassifier`, but can **mislead** the model if categories are **nominal**.\n",
    "\n",
    "---\n",
    "\n",
    "####  2. One-Hot Encoding (Preferred for Nominal Features)\n",
    "- Creates binary columns for each category.\n",
    "- Prevents the model from inferring any ordinal relationship between categories.\n",
    "- Standard approach for categorical features in `scikit-learn`.\n",
    "\n",
    "---\n",
    "\n",
    "####  Native Support in Other Libraries\n",
    "- Some libraries like **LightGBM** or **CatBoost** support **categorical features natively**, without manual encoding.\n",
    "- They internally choose optimal ways to split categories.\n",
    "\n",
    "---\n",
    "\n"
   ]
  },
  {
   "cell_type": "code",
   "execution_count": 9,
   "id": "1020d1a5",
   "metadata": {},
   "outputs": [
    {
     "name": "stdout",
     "output_type": "stream",
     "text": [
      "Predictions: ['Yes' 'No']\n",
      "Accuracy: 1.0\n"
     ]
    }
   ],
   "source": [
    "import pandas as pd\n",
    "from sklearn.tree import DecisionTreeClassifier\n",
    "from sklearn.model_selection import train_test_split\n",
    "from sklearn.preprocessing import OneHotEncoder\n",
    "from sklearn.compose import ColumnTransformer\n",
    "from sklearn.pipeline import Pipeline\n",
    "from sklearn.metrics import accuracy_score\n",
    "\n",
    "# Sample dataset with a categorical feature\n",
    "data = pd.DataFrame({\n",
    "    'Color': ['Red', 'Blue', 'Green', 'Red', 'Green', 'Blue', 'Red'],\n",
    "    'Size': [1, 2, 1, 3, 2, 3, 1],\n",
    "    'Label': ['Yes', 'No', 'No', 'Yes', 'No', 'No', 'Yes']\n",
    "})\n",
    "\n",
    "# Features and target\n",
    "X = data[['Color', 'Size']]\n",
    "y = data['Label']\n",
    "\n",
    "# Split data\n",
    "X_train, X_test, y_train, y_test = train_test_split(X, y, random_state=42)\n",
    "\n",
    "# One-hot encode the 'Color' column\n",
    "preprocessor = ColumnTransformer(\n",
    "    transformers=[\n",
    "        ('cat', OneHotEncoder(), ['Color'])  # apply OneHotEncoder to 'Color'\n",
    "    ],\n",
    "    remainder='passthrough'  # leave 'Size' column unchanged\n",
    ")\n",
    "\n",
    "# Create a pipeline that preprocesses and fits the model\n",
    "pipeline = Pipeline(steps=[\n",
    "    ('preprocessing', preprocessor),\n",
    "    ('classifier', DecisionTreeClassifier(random_state=42))\n",
    "])\n",
    "\n",
    "# Fit the model\n",
    "pipeline.fit(X_train, y_train)\n",
    "\n",
    "# Predict on test data\n",
    "y_pred = pipeline.predict(X_test)\n",
    "\n",
    "# Evaluate\n",
    "print(\"Predictions:\", y_pred)\n",
    "print(\"Accuracy:\", accuracy_score(y_test, y_pred))\n"
   ]
  },
  {
   "cell_type": "markdown",
   "id": "1861a8a2",
   "metadata": {},
   "source": [
    "### 15.  What are some real-world applications of Decision Trees?"
   ]
  },
  {
   "cell_type": "markdown",
   "id": "d2e37c95",
   "metadata": {},
   "source": [
    "\n",
    "\n",
    "Decision Trees are widely used due to their interpretability and effectiveness in various domains. Below are some notable real-world applications:\n",
    "\n",
    "---\n",
    "\n",
    "####  1. Finance\n",
    "- **Credit Risk Assessment**: Predict whether a loan applicant is likely to default.\n",
    "- **Fraud Detection**: Identify unusual patterns in transactions indicating potential fraud.\n",
    "\n",
    "---\n",
    "\n",
    "####  2. Healthcare\n",
    "- **Disease Diagnosis**: Classify whether a patient has a particular disease based on clinical features.\n",
    "- **Treatment Recommendation**: Suggest personalized treatment options based on patient history and diagnosis.\n",
    "\n",
    "---\n",
    "\n",
    "####  3. Retail & E-Commerce\n",
    "- **Customer Churn Prediction**: Predict if a customer will stop using a product or service.\n",
    "- **Product Recommendation**: Recommend items to customers based on their browsing and purchase history.\n",
    "\n",
    "---\n",
    "\n",
    "####  4. Human Resources\n",
    "- **Employee Attrition Prediction**: Predict which employees are likely to resign.\n",
    "- **Hiring Decisions**: Assist in screening candidates based on qualifications and performance data.\n",
    "\n",
    "---\n",
    "\n",
    "####  5. Manufacturing\n",
    "- **Quality Control**: Detect defects or anomalies in production lines.\n",
    "- **Predictive Maintenance**: Forecast equipment failures based on sensor and usage data.\n",
    "\n",
    "---\n",
    "\n",
    "####  6. Telecommunications\n",
    "- **Network Optimization**: Identify congestion areas in the network.\n",
    "- **Customer Support Automation**: Classify support tickets for automated routing and resolution.\n",
    "\n",
    "---\n",
    "\n",
    "####  7. Education\n",
    "- **Student Performance Prediction**: Identify students at risk of underperforming or dropping out.\n",
    "- **Adaptive Learning Systems**: Customize educational content based on learner behavior and performance.\n",
    "\n",
    "---\n",
    "\n",
    "####  Why Use Decision Trees?\n",
    "- Easy to interpret and visualize.\n",
    "- Handle both categorical and numerical features.\n",
    "- Applicable to both classification and regression problems.\n"
   ]
  },
  {
   "cell_type": "code",
   "execution_count": 10,
   "id": "4fa649a8",
   "metadata": {},
   "outputs": [
    {
     "name": "stdout",
     "output_type": "stream",
     "text": [
      "Classification Report:\n",
      "               precision    recall  f1-score   support\n",
      "\n",
      "          No       1.00      1.00      1.00         1\n",
      "         Yes       1.00      1.00      1.00         1\n",
      "\n",
      "    accuracy                           1.00         2\n",
      "   macro avg       1.00      1.00      1.00         2\n",
      "weighted avg       1.00      1.00      1.00         2\n",
      "\n"
     ]
    }
   ],
   "source": [
    "import pandas as pd\n",
    "from sklearn.tree import DecisionTreeClassifier\n",
    "from sklearn.model_selection import train_test_split\n",
    "from sklearn.metrics import classification_report\n",
    "\n",
    "# Sample synthetic dataset\n",
    "data = pd.DataFrame({\n",
    "    'Tenure': [1, 3, 5, 2, 8, 10, 12, 4],\n",
    "    'MonthlyCharges': [20, 25, 30, 22, 70, 90, 95, 40],\n",
    "    'Contract': ['Month-to-month', 'Month-to-month', 'One year', 'Month-to-month',\n",
    "                 'Two year', 'Two year', 'Two year', 'One year'],\n",
    "    'Churn': ['Yes', 'Yes', 'No', 'Yes', 'No', 'No', 'No', 'No']\n",
    "})\n",
    "\n",
    "# Features and target\n",
    "X = data[['Tenure', 'MonthlyCharges', 'Contract']]\n",
    "y = data['Churn']\n",
    "\n",
    "# One-hot encode the categorical feature 'Contract'\n",
    "X = pd.get_dummies(X, columns=['Contract'])\n",
    "\n",
    "# Split data\n",
    "X_train, X_test, y_train, y_test = train_test_split(X, y, test_size=0.25, random_state=42)\n",
    "\n",
    "# Create and train Decision Tree\n",
    "clf = DecisionTreeClassifier(random_state=42)\n",
    "clf.fit(X_train, y_train)\n",
    "\n",
    "# Predict and evaluate\n",
    "y_pred = clf.predict(X_test)\n",
    "print(\"Classification Report:\\n\", classification_report(y_test, y_pred))\n"
   ]
  },
  {
   "cell_type": "markdown",
   "id": "962fefb9",
   "metadata": {},
   "source": [
    "# Practical Questions:"
   ]
  },
  {
   "cell_type": "markdown",
   "id": "b2628cae",
   "metadata": {},
   "source": [
    "### 16. Write a Python program to train a Decision Tree Classifier on the Iris dataset and print the model accuracy"
   ]
  },
  {
   "cell_type": "code",
   "execution_count": 12,
   "id": "b1075328",
   "metadata": {},
   "outputs": [
    {
     "name": "stdout",
     "output_type": "stream",
     "text": [
      "Decision Tree Accuracy on Iris Dataset: 100.00%\n"
     ]
    }
   ],
   "source": [
    "# Import necessary libraries\n",
    "from sklearn.datasets import load_iris\n",
    "from sklearn.model_selection import train_test_split\n",
    "from sklearn.tree import DecisionTreeClassifier\n",
    "from sklearn.metrics import accuracy_score\n",
    "\n",
    "# Load the Iris dataset\n",
    "iris = load_iris()\n",
    "X = iris.data\n",
    "y = iris.target\n",
    "\n",
    "# Split into training and testing sets (80% train, 20% test)\n",
    "X_train, X_test, y_train, y_test = train_test_split(X, y, test_size=0.2, random_state=42)\n",
    "\n",
    "# Create and train the Decision Tree Classifier\n",
    "clf = DecisionTreeClassifier(random_state=42)\n",
    "clf.fit(X_train, y_train)\n",
    "\n",
    "# Make predictions\n",
    "y_pred = clf.predict(X_test)\n",
    "\n",
    "# Calculate and print the accuracy\n",
    "accuracy = accuracy_score(y_test, y_pred)\n",
    "print(\"Decision Tree Accuracy on Iris Dataset: {:.2f}%\".format(accuracy * 100))\n"
   ]
  },
  {
   "cell_type": "markdown",
   "id": "24dd0040",
   "metadata": {},
   "source": [
    "### 17. Write a Python program to train a Decision Tree Classifier using Gini Impurity as the criterion and print the feature importances"
   ]
  },
  {
   "cell_type": "code",
   "execution_count": 13,
   "id": "7ac12f36",
   "metadata": {},
   "outputs": [
    {
     "name": "stdout",
     "output_type": "stream",
     "text": [
      "Feature Importances:\n",
      "sepal length (cm): 0.0000\n",
      "sepal width (cm): 0.0167\n",
      "petal length (cm): 0.9061\n",
      "petal width (cm): 0.0772\n"
     ]
    }
   ],
   "source": [
    "from sklearn.datasets import load_iris\n",
    "from sklearn.model_selection import train_test_split\n",
    "from sklearn.tree import DecisionTreeClassifier\n",
    "\n",
    "# Load the Iris dataset\n",
    "iris = load_iris()\n",
    "X = iris.data\n",
    "y = iris.target\n",
    "feature_names = iris.feature_names\n",
    "\n",
    "# Split the dataset\n",
    "X_train, X_test, y_train, y_test = train_test_split(X, y, test_size=0.2, random_state=42)\n",
    "\n",
    "# Initialize the Decision Tree with Gini criterion (default)\n",
    "clf = DecisionTreeClassifier(criterion='gini', random_state=42)\n",
    "\n",
    "# Train the model\n",
    "clf.fit(X_train, y_train)\n",
    "\n",
    "# Print feature importances\n",
    "print(\"Feature Importances:\")\n",
    "for name, importance in zip(feature_names, clf.feature_importances_):\n",
    "    print(f\"{name}: {importance:.4f}\")\n"
   ]
  },
  {
   "cell_type": "markdown",
   "id": "ab19370c",
   "metadata": {},
   "source": [
    "### 18. Write a Python program to train a Decision Tree Classifier using Entropy as the splitting criterion and print the model accuracy"
   ]
  },
  {
   "cell_type": "code",
   "execution_count": 14,
   "id": "6a14cf3d",
   "metadata": {},
   "outputs": [
    {
     "name": "stdout",
     "output_type": "stream",
     "text": [
      "Decision Tree Accuracy with Entropy criterion: 100.00%\n"
     ]
    }
   ],
   "source": [
    "from sklearn.datasets import load_iris\n",
    "from sklearn.model_selection import train_test_split\n",
    "from sklearn.tree import DecisionTreeClassifier\n",
    "from sklearn.metrics import accuracy_score\n",
    "\n",
    "# Load Iris dataset\n",
    "iris = load_iris()\n",
    "X = iris.data\n",
    "y = iris.target\n",
    "\n",
    "# Split into train and test sets\n",
    "X_train, X_test, y_train, y_test = train_test_split(X, y, test_size=0.2, random_state=42)\n",
    "\n",
    "# Initialize Decision Tree with Entropy criterion\n",
    "clf = DecisionTreeClassifier(criterion='entropy', random_state=42)\n",
    "\n",
    "# Train the classifier\n",
    "clf.fit(X_train, y_train)\n",
    "\n",
    "# Predict on test set\n",
    "y_pred = clf.predict(X_test)\n",
    "\n",
    "# Calculate and print accuracy\n",
    "accuracy = accuracy_score(y_test, y_pred)\n",
    "print(f\"Decision Tree Accuracy with Entropy criterion: {accuracy:.2%}\")\n"
   ]
  },
  {
   "cell_type": "markdown",
   "id": "fa893a79",
   "metadata": {},
   "source": [
    "### 19. Write a Python program to train a Decision Tree Regressor on a housing dataset and evaluate using Mean Squared Error (MSE)."
   ]
  },
  {
   "cell_type": "code",
   "execution_count": 15,
   "id": "cdb6c620",
   "metadata": {},
   "outputs": [
    {
     "name": "stdout",
     "output_type": "stream",
     "text": [
      "Mean Squared Error (MSE) on test set: 10.42\n"
     ]
    },
    {
     "name": "stderr",
     "output_type": "stream",
     "text": [
      "/home/swagata/anaconda3/envs/brains/lib/python3.7/site-packages/sklearn/utils/deprecation.py:87: FutureWarning: Function load_boston is deprecated; `load_boston` is deprecated in 1.0 and will be removed in 1.2.\n",
      "\n",
      "    The Boston housing prices dataset has an ethical problem. You can refer to\n",
      "    the documentation of this function for further details.\n",
      "\n",
      "    The scikit-learn maintainers therefore strongly discourage the use of this\n",
      "    dataset unless the purpose of the code is to study and educate about\n",
      "    ethical issues in data science and machine learning.\n",
      "\n",
      "    In this special case, you can fetch the dataset from the original\n",
      "    source::\n",
      "\n",
      "        import pandas as pd\n",
      "        import numpy as np\n",
      "\n",
      "\n",
      "        data_url = \"http://lib.stat.cmu.edu/datasets/boston\"\n",
      "        raw_df = pd.read_csv(data_url, sep=\"\\s+\", skiprows=22, header=None)\n",
      "        data = np.hstack([raw_df.values[::2, :], raw_df.values[1::2, :2]])\n",
      "        target = raw_df.values[1::2, 2]\n",
      "\n",
      "    Alternative datasets include the California housing dataset (i.e.\n",
      "    :func:`~sklearn.datasets.fetch_california_housing`) and the Ames housing\n",
      "    dataset. You can load the datasets as follows::\n",
      "\n",
      "        from sklearn.datasets import fetch_california_housing\n",
      "        housing = fetch_california_housing()\n",
      "\n",
      "    for the California housing dataset and::\n",
      "\n",
      "        from sklearn.datasets import fetch_openml\n",
      "        housing = fetch_openml(name=\"house_prices\", as_frame=True)\n",
      "\n",
      "    for the Ames housing dataset.\n",
      "    \n",
      "  warnings.warn(msg, category=FutureWarning)\n"
     ]
    }
   ],
   "source": [
    "from sklearn.datasets import load_boston\n",
    "from sklearn.model_selection import train_test_split\n",
    "from sklearn.tree import DecisionTreeRegressor\n",
    "from sklearn.metrics import mean_squared_error\n",
    "\n",
    "# Load the Boston housing dataset\n",
    "boston = load_boston()\n",
    "X = boston.data\n",
    "y = boston.target\n",
    "\n",
    "# Split into training and test sets\n",
    "X_train, X_test, y_train, y_test = train_test_split(X, y, test_size=0.2, random_state=42)\n",
    "\n",
    "# Initialize Decision Tree Regressor\n",
    "regressor = DecisionTreeRegressor(random_state=42)\n",
    "\n",
    "# Train the regressor\n",
    "regressor.fit(X_train, y_train)\n",
    "\n",
    "# Predict on test data\n",
    "y_pred = regressor.predict(X_test)\n",
    "\n",
    "# Calculate Mean Squared Error\n",
    "mse = mean_squared_error(y_test, y_pred)\n",
    "print(f\"Mean Squared Error (MSE) on test set: {mse:.2f}\")\n"
   ]
  },
  {
   "cell_type": "code",
   "execution_count": 18,
   "id": "08e3653c",
   "metadata": {},
   "outputs": [
    {
     "name": "stdout",
     "output_type": "stream",
     "text": [
      "Requirement already satisfied: graphviz in /home/swagata/anaconda3/envs/brains/lib/python3.7/site-packages (0.20.1)\r\n"
     ]
    }
   ],
   "source": [
    "!pip install graphviz"
   ]
  },
  {
   "cell_type": "markdown",
   "id": "f30e639c",
   "metadata": {},
   "source": [
    "### 20. Write a Python program to train a Decision Tree Classifier and visualize the tree using graphviz"
   ]
  },
  {
   "cell_type": "code",
   "execution_count": 20,
   "id": "ca9ba18e",
   "metadata": {},
   "outputs": [
    {
     "data": {
      "text/plain": [
       "'iris_decision_tree.pdf'"
      ]
     },
     "execution_count": 20,
     "metadata": {},
     "output_type": "execute_result"
    }
   ],
   "source": [
    "\n",
    "from sklearn.datasets import load_iris\n",
    "from sklearn.tree import DecisionTreeClassifier, export_graphviz\n",
    "from sklearn.model_selection import train_test_split\n",
    "import graphviz\n",
    "\n",
    "# Load Iris dataset\n",
    "iris = load_iris()\n",
    "X = iris.data\n",
    "y = iris.target\n",
    "feature_names = iris.feature_names\n",
    "class_names = iris.target_names\n",
    "\n",
    "# Split data\n",
    "X_train, X_test, y_train, y_test = train_test_split(X, y, test_size=0.2, random_state=42)\n",
    "\n",
    "# Train Decision Tree Classifier\n",
    "clf = DecisionTreeClassifier(random_state=42)\n",
    "clf.fit(X_train, y_train)\n",
    "\n",
    "# Export the tree in DOT format\n",
    "dot_data = export_graphviz(\n",
    "    clf,\n",
    "    out_file=None,\n",
    "    feature_names=feature_names,\n",
    "    class_names=class_names,\n",
    "    filled=True,\n",
    "    rounded=True,\n",
    "    special_characters=True\n",
    ")\n",
    "\n",
    "# Visualize the tree using graphviz\n",
    "graph = graphviz.Source(dot_data)\n",
    "graph.render(\"iris_decision_tree\")  # Saves as iris_decision_tree.pdf\n",
    "graph.view()  # Opens the PDF viewer (optional)\n"
   ]
  },
  {
   "cell_type": "markdown",
   "id": "68c524a8",
   "metadata": {},
   "source": [
    "### 21. Write a Python program to train a Decision Tree Classifier with a maximum depth of 3 and compare its accuracy with a fully grown tree"
   ]
  },
  {
   "cell_type": "code",
   "execution_count": 21,
   "id": "ba86bb24",
   "metadata": {},
   "outputs": [
    {
     "name": "stdout",
     "output_type": "stream",
     "text": [
      "Accuracy with max_depth=3: 1.0000\n",
      "Accuracy with fully grown tree: 1.0000\n"
     ]
    }
   ],
   "source": [
    "from sklearn.datasets import load_iris\n",
    "from sklearn.tree import DecisionTreeClassifier\n",
    "from sklearn.model_selection import train_test_split\n",
    "from sklearn.metrics import accuracy_score\n",
    "\n",
    "# Load dataset\n",
    "iris = load_iris()\n",
    "X, y = iris.data, iris.target\n",
    "\n",
    "# Split data into train and test sets\n",
    "X_train, X_test, y_train, y_test = train_test_split(X, y, test_size=0.2, random_state=42)\n",
    "\n",
    "# Train Decision Tree with max depth = 3\n",
    "clf_limited = DecisionTreeClassifier(max_depth=3, random_state=42)\n",
    "clf_limited.fit(X_train, y_train)\n",
    "y_pred_limited = clf_limited.predict(X_test)\n",
    "acc_limited = accuracy_score(y_test, y_pred_limited)\n",
    "\n",
    "# Train fully grown Decision Tree (no max depth limit)\n",
    "clf_full = DecisionTreeClassifier(random_state=42)\n",
    "clf_full.fit(X_train, y_train)\n",
    "y_pred_full = clf_full.predict(X_test)\n",
    "acc_full = accuracy_score(y_test, y_pred_full)\n",
    "\n",
    "# Print accuracies\n",
    "print(f\"Accuracy with max_depth=3: {acc_limited:.4f}\")\n",
    "print(f\"Accuracy with fully grown tree: {acc_full:.4f}\")\n"
   ]
  },
  {
   "cell_type": "markdown",
   "id": "e6438314",
   "metadata": {},
   "source": [
    "### 22. Write a Python program to train a Decision Tree Classifier using min_samples_split=5 and compare its accuracy with a default tree"
   ]
  },
  {
   "cell_type": "code",
   "execution_count": 22,
   "id": "39b08d9e",
   "metadata": {},
   "outputs": [
    {
     "name": "stdout",
     "output_type": "stream",
     "text": [
      "Accuracy with min_samples_split=5: 1.0000\n",
      "Accuracy with default min_samples_split: 1.0000\n"
     ]
    }
   ],
   "source": [
    "from sklearn.datasets import load_iris\n",
    "from sklearn.tree import DecisionTreeClassifier\n",
    "from sklearn.model_selection import train_test_split\n",
    "from sklearn.metrics import accuracy_score\n",
    "\n",
    "# Load dataset\n",
    "iris = load_iris()\n",
    "X, y = iris.data, iris.target\n",
    "\n",
    "# Split data into train and test sets\n",
    "X_train, X_test, y_train, y_test = train_test_split(X, y, test_size=0.2, random_state=42)\n",
    "\n",
    "# Train Decision Tree with min_samples_split=5\n",
    "clf_min_split = DecisionTreeClassifier(min_samples_split=5, random_state=42)\n",
    "clf_min_split.fit(X_train, y_train)\n",
    "y_pred_min_split = clf_min_split.predict(X_test)\n",
    "acc_min_split = accuracy_score(y_test, y_pred_min_split)\n",
    "\n",
    "# Train default Decision Tree (min_samples_split=2)\n",
    "clf_default = DecisionTreeClassifier(random_state=42)\n",
    "clf_default.fit(X_train, y_train)\n",
    "y_pred_default = clf_default.predict(X_test)\n",
    "acc_default = accuracy_score(y_test, y_pred_default)\n",
    "\n",
    "# Print accuracies\n",
    "print(f\"Accuracy with min_samples_split=5: {acc_min_split:.4f}\")\n",
    "print(f\"Accuracy with default min_samples_split: {acc_default:.4f}\")\n"
   ]
  },
  {
   "cell_type": "markdown",
   "id": "31ac2f84",
   "metadata": {},
   "source": [
    "### 23. Write a Python program to apply feature scaling before training a Decision Tree Classifier and compare its accuracy with unscaled data"
   ]
  },
  {
   "cell_type": "code",
   "execution_count": 23,
   "id": "e377f30a",
   "metadata": {},
   "outputs": [
    {
     "name": "stdout",
     "output_type": "stream",
     "text": [
      "Accuracy with feature scaling: 1.0000\n",
      "Accuracy without feature scaling: 1.0000\n"
     ]
    }
   ],
   "source": [
    "from sklearn.datasets import load_iris\n",
    "from sklearn.tree import DecisionTreeClassifier\n",
    "from sklearn.model_selection import train_test_split\n",
    "from sklearn.preprocessing import StandardScaler\n",
    "from sklearn.metrics import accuracy_score\n",
    "\n",
    "# Load dataset\n",
    "iris = load_iris()\n",
    "X, y = iris.data, iris.target\n",
    "\n",
    "# Split data into train and test sets\n",
    "X_train, X_test, y_train, y_test = train_test_split(X, y, test_size=0.2, random_state=42)\n",
    "\n",
    "# Feature scaling\n",
    "scaler = StandardScaler()\n",
    "X_train_scaled = scaler.fit_transform(X_train)\n",
    "X_test_scaled = scaler.transform(X_test)\n",
    "\n",
    "# Train Decision Tree on scaled data\n",
    "clf_scaled = DecisionTreeClassifier(random_state=42)\n",
    "clf_scaled.fit(X_train_scaled, y_train)\n",
    "y_pred_scaled = clf_scaled.predict(X_test_scaled)\n",
    "acc_scaled = accuracy_score(y_test, y_pred_scaled)\n",
    "\n",
    "# Train Decision Tree on unscaled data\n",
    "clf_unscaled = DecisionTreeClassifier(random_state=42)\n",
    "clf_unscaled.fit(X_train, y_train)\n",
    "y_pred_unscaled = clf_unscaled.predict(X_test)\n",
    "acc_unscaled = accuracy_score(y_test, y_pred_unscaled)\n",
    "\n",
    "# Print accuracies\n",
    "print(f\"Accuracy with feature scaling: {acc_scaled:.4f}\")\n",
    "print(f\"Accuracy without feature scaling: {acc_unscaled:.4f}\")\n"
   ]
  },
  {
   "cell_type": "markdown",
   "id": "58df37cf",
   "metadata": {},
   "source": [
    "### 24. Write a Python program to train a Decision Tree Classifier using One-vs-Rest (OvR) strategy for multiclass classification"
   ]
  },
  {
   "cell_type": "code",
   "execution_count": 24,
   "id": "b7ff4015",
   "metadata": {},
   "outputs": [
    {
     "name": "stdout",
     "output_type": "stream",
     "text": [
      "Accuracy with One-vs-Rest Decision Tree Classifier: 1.0000\n"
     ]
    }
   ],
   "source": [
    "from sklearn.datasets import load_iris\n",
    "from sklearn.tree import DecisionTreeClassifier\n",
    "from sklearn.multiclass import OneVsRestClassifier\n",
    "from sklearn.model_selection import train_test_split\n",
    "from sklearn.metrics import accuracy_score\n",
    "\n",
    "# Load dataset\n",
    "iris = load_iris()\n",
    "X, y = iris.data, iris.target\n",
    "\n",
    "# Split data\n",
    "X_train, X_test, y_train, y_test = train_test_split(X, y, test_size=0.2, random_state=42)\n",
    "\n",
    "# Initialize base classifier\n",
    "dt_clf = DecisionTreeClassifier(random_state=42)\n",
    "\n",
    "# Wrap with One-vs-Rest strategy\n",
    "ovr_clf = OneVsRestClassifier(dt_clf)\n",
    "\n",
    "# Train\n",
    "ovr_clf.fit(X_train, y_train)\n",
    "\n",
    "# Predict\n",
    "y_pred = ovr_clf.predict(X_test)\n",
    "\n",
    "# Accuracy\n",
    "acc = accuracy_score(y_test, y_pred)\n",
    "print(f\"Accuracy with One-vs-Rest Decision Tree Classifier: {acc:.4f}\")\n"
   ]
  },
  {
   "cell_type": "markdown",
   "id": "2fce09a0",
   "metadata": {},
   "source": [
    "### 25. Write a Python program to train a Decision Tree Classifier and display the feature importance scores"
   ]
  },
  {
   "cell_type": "code",
   "execution_count": 25,
   "id": "db29b987",
   "metadata": {},
   "outputs": [
    {
     "name": "stdout",
     "output_type": "stream",
     "text": [
      "sepal length (cm): 0.0133\n",
      "sepal width (cm): 0.0000\n",
      "petal length (cm): 0.5641\n",
      "petal width (cm): 0.4226\n"
     ]
    }
   ],
   "source": [
    "from sklearn.datasets import load_iris\n",
    "from sklearn.tree import DecisionTreeClassifier\n",
    "\n",
    "# Load dataset\n",
    "iris = load_iris()\n",
    "X, y = iris.data, iris.target\n",
    "feature_names = iris.feature_names\n",
    "\n",
    "# Train Decision Tree Classifier\n",
    "clf = DecisionTreeClassifier(random_state=42)\n",
    "clf.fit(X, y)\n",
    "\n",
    "# Get feature importance scores\n",
    "importances = clf.feature_importances_\n",
    "\n",
    "# Display feature importances\n",
    "for name, importance in zip(feature_names, importances):\n",
    "    print(f\"{name}: {importance:.4f}\")\n"
   ]
  },
  {
   "cell_type": "markdown",
   "id": "7c9a2c66",
   "metadata": {},
   "source": [
    "### 26. Write a Python program to train a Decision Tree Regressor with max_depth=5 and compare its performance with an unrestricted tree"
   ]
  },
  {
   "cell_type": "code",
   "execution_count": 26,
   "id": "23f1fcf7",
   "metadata": {},
   "outputs": [
    {
     "name": "stdout",
     "output_type": "stream",
     "text": [
      "MSE with max_depth=5: 8.5539\n",
      "MSE with unrestricted tree: 10.4161\n"
     ]
    },
    {
     "name": "stderr",
     "output_type": "stream",
     "text": [
      "/home/swagata/anaconda3/envs/brains/lib/python3.7/site-packages/sklearn/utils/deprecation.py:87: FutureWarning: Function load_boston is deprecated; `load_boston` is deprecated in 1.0 and will be removed in 1.2.\n",
      "\n",
      "    The Boston housing prices dataset has an ethical problem. You can refer to\n",
      "    the documentation of this function for further details.\n",
      "\n",
      "    The scikit-learn maintainers therefore strongly discourage the use of this\n",
      "    dataset unless the purpose of the code is to study and educate about\n",
      "    ethical issues in data science and machine learning.\n",
      "\n",
      "    In this special case, you can fetch the dataset from the original\n",
      "    source::\n",
      "\n",
      "        import pandas as pd\n",
      "        import numpy as np\n",
      "\n",
      "\n",
      "        data_url = \"http://lib.stat.cmu.edu/datasets/boston\"\n",
      "        raw_df = pd.read_csv(data_url, sep=\"\\s+\", skiprows=22, header=None)\n",
      "        data = np.hstack([raw_df.values[::2, :], raw_df.values[1::2, :2]])\n",
      "        target = raw_df.values[1::2, 2]\n",
      "\n",
      "    Alternative datasets include the California housing dataset (i.e.\n",
      "    :func:`~sklearn.datasets.fetch_california_housing`) and the Ames housing\n",
      "    dataset. You can load the datasets as follows::\n",
      "\n",
      "        from sklearn.datasets import fetch_california_housing\n",
      "        housing = fetch_california_housing()\n",
      "\n",
      "    for the California housing dataset and::\n",
      "\n",
      "        from sklearn.datasets import fetch_openml\n",
      "        housing = fetch_openml(name=\"house_prices\", as_frame=True)\n",
      "\n",
      "    for the Ames housing dataset.\n",
      "    \n",
      "  warnings.warn(msg, category=FutureWarning)\n"
     ]
    }
   ],
   "source": [
    "from sklearn.datasets import load_boston\n",
    "from sklearn.tree import DecisionTreeRegressor\n",
    "from sklearn.model_selection import train_test_split\n",
    "from sklearn.metrics import mean_squared_error\n",
    "\n",
    "# Load dataset (Boston housing)\n",
    "boston = load_boston()\n",
    "X, y = boston.data, boston.target\n",
    "\n",
    "# Split data into train and test sets\n",
    "X_train, X_test, y_train, y_test = train_test_split(X, y, test_size=0.2, random_state=42)\n",
    "\n",
    "# Train Decision Tree Regressor with max_depth=5\n",
    "reg_limited = DecisionTreeRegressor(max_depth=5, random_state=42)\n",
    "reg_limited.fit(X_train, y_train)\n",
    "y_pred_limited = reg_limited.predict(X_test)\n",
    "mse_limited = mean_squared_error(y_test, y_pred_limited)\n",
    "\n",
    "# Train unrestricted Decision Tree Regressor\n",
    "reg_full = DecisionTreeRegressor(random_state=42)\n",
    "reg_full.fit(X_train, y_train)\n",
    "y_pred_full = reg_full.predict(X_test)\n",
    "mse_full = mean_squared_error(y_test, y_pred_full)\n",
    "\n",
    "# Print MSE for both models\n",
    "print(f\"MSE with max_depth=5: {mse_limited:.4f}\")\n",
    "print(f\"MSE with unrestricted tree: {mse_full:.4f}\")\n"
   ]
  },
  {
   "cell_type": "markdown",
   "id": "9b9f55fe",
   "metadata": {},
   "source": [
    "### 27. Write a Python program to train a Decision Tree Classifier, apply Cost Complexity Pruning (CCP), and visualize its effect on accuracy"
   ]
  },
  {
   "cell_type": "code",
   "execution_count": 27,
   "id": "d05ac6c2",
   "metadata": {},
   "outputs": [
    {
     "data": {
      "image/png": "[encoded data removed]",
      "text/plain": [
       "<Figure size 800x500 with 1 Axes>"
      ]
     },
     "metadata": {},
     "output_type": "display_data"
    }
   ],
   "source": [
    "import matplotlib.pyplot as plt\n",
    "from sklearn.datasets import load_iris\n",
    "from sklearn.tree import DecisionTreeClassifier\n",
    "from sklearn.model_selection import train_test_split\n",
    "from sklearn.metrics import accuracy_score\n",
    "\n",
    "# Load dataset\n",
    "iris = load_iris()\n",
    "X, y = iris.data, iris.target\n",
    "\n",
    "# Split data\n",
    "X_train, X_test, y_train, y_test = train_test_split(X, y, test_size=0.2, random_state=42)\n",
    "\n",
    "# Train initial Decision Tree\n",
    "clf = DecisionTreeClassifier(random_state=42)\n",
    "clf.fit(X_train, y_train)\n",
    "\n",
    "# Get cost complexity pruning path\n",
    "path = clf.cost_complexity_pruning_path(X_train, y_train)\n",
    "ccp_alphas, impurities = path.ccp_alphas, path.impurities\n",
    "\n",
    "# Lists to store results\n",
    "clfs = []\n",
    "train_acc = []\n",
    "test_acc = []\n",
    "\n",
    "# Train trees for each alpha value\n",
    "for ccp_alpha in ccp_alphas:\n",
    "    clf_pruned = DecisionTreeClassifier(random_state=42, ccp_alpha=ccp_alpha)\n",
    "    clf_pruned.fit(X_train, y_train)\n",
    "    clfs.append(clf_pruned)\n",
    "    train_acc.append(accuracy_score(y_train, clf_pruned.predict(X_train)))\n",
    "    test_acc.append(accuracy_score(y_test, clf_pruned.predict(X_test)))\n",
    "\n",
    "# Plot accuracy vs alpha\n",
    "plt.figure(figsize=(8,5))\n",
    "plt.plot(ccp_alphas, train_acc, marker='o', label='Train Accuracy')\n",
    "plt.plot(ccp_alphas, test_acc, marker='o', label='Test Accuracy')\n",
    "plt.xlabel('Alpha (ccp_alpha)')\n",
    "plt.ylabel('Accuracy')\n",
    "plt.title('Effect of Cost Complexity Pruning on Accuracy')\n",
    "plt.legend()\n",
    "plt.grid(True)\n",
    "plt.show()\n"
   ]
  },
  {
   "cell_type": "markdown",
   "id": "dcec7bc8",
   "metadata": {},
   "source": [
    "### 28. Write a Python program to train a Decision Tree Classifier and evaluate its performance using Precision, Recall, and F1-Score"
   ]
  },
  {
   "cell_type": "code",
   "execution_count": 28,
   "id": "61553e5b",
   "metadata": {},
   "outputs": [
    {
     "name": "stdout",
     "output_type": "stream",
     "text": [
      "Precision: 1.0000\n",
      "Recall: 1.0000\n",
      "F1-Score: 1.0000\n"
     ]
    }
   ],
   "source": [
    "from sklearn.datasets import load_iris\n",
    "from sklearn.tree import DecisionTreeClassifier\n",
    "from sklearn.model_selection import train_test_split\n",
    "from sklearn.metrics import precision_score, recall_score, f1_score\n",
    "\n",
    "# Load dataset\n",
    "iris = load_iris()\n",
    "X, y = iris.data, iris.target\n",
    "\n",
    "# Split data\n",
    "X_train, X_test, y_train, y_test = train_test_split(X, y, test_size=0.2, random_state=42)\n",
    "\n",
    "# Train Decision Tree Classifier\n",
    "clf = DecisionTreeClassifier(random_state=42)\n",
    "clf.fit(X_train, y_train)\n",
    "\n",
    "# Predict on test set\n",
    "y_pred = clf.predict(X_test)\n",
    "\n",
    "# Calculate Precision, Recall, F1-Score (macro-averaged for multiclass)\n",
    "precision = precision_score(y_test, y_pred, average='macro')\n",
    "recall = recall_score(y_test, y_pred, average='macro')\n",
    "f1 = f1_score(y_test, y_pred, average='macro')\n",
    "\n",
    "print(f\"Precision: {precision:.4f}\")\n",
    "print(f\"Recall: {recall:.4f}\")\n",
    "print(f\"F1-Score: {f1:.4f}\")\n"
   ]
  },
  {
   "cell_type": "markdown",
   "id": "f2456574",
   "metadata": {},
   "source": [
    "### 29. Write a Python program to train a Decision Tree Classifier and visualize the confusion matrix using seaborn."
   ]
  },
  {
   "cell_type": "code",
   "execution_count": 29,
   "id": "e0fcf29f",
   "metadata": {},
   "outputs": [
    {
     "data": {
      "image/png": "[encoded data removed]",
      "text/plain": [
       "<Figure size 700x500 with 2 Axes>"
      ]
     },
     "metadata": {},
     "output_type": "display_data"
    }
   ],
   "source": [
    "import seaborn as sns\n",
    "import matplotlib.pyplot as plt\n",
    "from sklearn.datasets import load_iris\n",
    "from sklearn.tree import DecisionTreeClassifier\n",
    "from sklearn.model_selection import train_test_split\n",
    "from sklearn.metrics import confusion_matrix\n",
    "\n",
    "# Load dataset\n",
    "iris = load_iris()\n",
    "X, y = iris.data, iris.target\n",
    "class_names = iris.target_names\n",
    "\n",
    "# Split data\n",
    "X_train, X_test, y_train, y_test = train_test_split(X, y, test_size=0.2, random_state=42)\n",
    "\n",
    "# Train Decision Tree Classifier\n",
    "clf = DecisionTreeClassifier(random_state=42)\n",
    "clf.fit(X_train, y_train)\n",
    "\n",
    "# Predict on test set\n",
    "y_pred = clf.predict(X_test)\n",
    "\n",
    "# Compute confusion matrix\n",
    "cm = confusion_matrix(y_test, y_pred)\n",
    "\n",
    "# Visualize confusion matrix using seaborn\n",
    "plt.figure(figsize=(7,5))\n",
    "sns.heatmap(cm, annot=True, fmt=\"d\", cmap=\"Blues\", xticklabels=class_names, yticklabels=class_names)\n",
    "plt.xlabel('Predicted')\n",
    "plt.ylabel('Actual')\n",
    "plt.title('Confusion Matrix - Decision Tree Classifier')\n",
    "plt.show()\n"
   ]
  },
  {
   "cell_type": "markdown",
   "id": "cb2309c6",
   "metadata": {},
   "source": [
    "### 30. Write a Python program to train a Decision Tree Classifier and use GridSearchCV to find the optimal values for max_depth and min_samples_split."
   ]
  },
  {
   "cell_type": "code",
   "execution_count": 30,
   "id": "55031da7",
   "metadata": {},
   "outputs": [
    {
     "name": "stdout",
     "output_type": "stream",
     "text": [
      "Best parameters found: {'max_depth': 4, 'min_samples_split': 2}\n",
      "Test set accuracy with best parameters: 1.0000\n"
     ]
    }
   ],
   "source": [
    "from sklearn.datasets import load_iris\n",
    "from sklearn.tree import DecisionTreeClassifier\n",
    "from sklearn.model_selection import GridSearchCV, train_test_split\n",
    "\n",
    "# Load dataset\n",
    "iris = load_iris()\n",
    "X, y = iris.data, iris.target\n",
    "\n",
    "# Split data\n",
    "X_train, X_test, y_train, y_test = train_test_split(X, y, test_size=0.2, random_state=42)\n",
    "\n",
    "# Initialize Decision Tree Classifier\n",
    "clf = DecisionTreeClassifier(random_state=42)\n",
    "\n",
    "# Define parameter grid for GridSearchCV\n",
    "param_grid = {\n",
    "    'max_depth': [2, 3, 4, 5, 6, None],\n",
    "    'min_samples_split': [2, 5, 10]\n",
    "}\n",
    "\n",
    "# Setup GridSearchCV\n",
    "grid_search = GridSearchCV(estimator=clf, param_grid=param_grid, cv=5, scoring='accuracy')\n",
    "\n",
    "# Train using GridSearchCV\n",
    "grid_search.fit(X_train, y_train)\n",
    "\n",
    "# Best parameters\n",
    "print(\"Best parameters found:\", grid_search.best_params_)\n",
    "\n",
    "# Best estimator accuracy on test set\n",
    "best_clf = grid_search.best_estimator_\n",
    "test_accuracy = best_clf.score(X_test, y_test)\n",
    "print(f\"Test set accuracy with best parameters: {test_accuracy:.4f}\")\n"
   ]
  },
  {
   "cell_type": "code",
   "execution_count": null,
   "id": "5d3197f1",
   "metadata": {},
   "outputs": [],
   "source": []
  }
 ],
 "metadata": {
  "kernelspec": {
   "display_name": "Python 3 (ipykernel)",
   "language": "python",
   "name": "python3"
  },
  "language_info": {
   "codemirror_mode": {
    "name": "ipython",
    "version": 3
   },
   "file_extension": ".py",
   "mimetype": "text/x-python",
   "name": "python",
   "nbconvert_exporter": "python",
   "pygments_lexer": "ipython3",
   "version": "3.7.16"
  }
 },
 "nbformat": 4,
 "nbformat_minor": 5
}
